{
  "nbformat": 4,
  "nbformat_minor": 0,
  "metadata": {
    "colab": {
      "provenance": [],
      "toc_visible": true,
      "authorship_tag": "ABX9TyMLLxpu3QYfkQWp1UOz2t8e",
      "include_colab_link": true
    },
    "kernelspec": {
      "name": "python3",
      "display_name": "Python 3"
    },
    "language_info": {
      "name": "python"
    }
  },
  "cells": [
    {
      "cell_type": "markdown",
      "metadata": {
        "id": "view-in-github",
        "colab_type": "text"
      },
      "source": [
        "<a href=\"https://colab.research.google.com/github/CyberCloudUK/PythonHelloWorld/blob/master/py_week_1.ipynb\" target=\"_parent\"><img src=\"https://colab.research.google.com/assets/colab-badge.svg\" alt=\"Open In Colab\"/></a>"
      ]
    },
    {
      "cell_type": "code",
      "execution_count": null,
      "metadata": {
        "id": "7mS_kf9p4avO"
      },
      "outputs": [],
      "source": []
    },
    {
      "cell_type": "markdown",
      "source": [],
      "metadata": {
        "id": "S5VfMydpyB7s"
      }
    },
    {
      "cell_type": "code",
      "source": [
        "# maths & stuff - I can use hastag to add comments\n",
        "print(\"Why didn't I have this in school!\")\n",
        "# learnt - have to use \" instead of ' if it's in a sentence\"\n",
        "# + - * / floating // integer % remainder of division ** to power of x\n",
        "\n",
        "# +\n",
        "a = 10\n",
        "a = a + 4\n",
        "print (a)\n",
        "# or\n",
        "b = 10\n",
        "b +=4 #augmented - takes y and adjusts +-*\n",
        "print(b)\n",
        "\n",
        "#operator precedence BODMAS\n",
        "c=(10+3)*2 #look brain, don't need spaces #efficiency\n",
        "print(\"c = \"+str(c)) #& can add a label\n",
        "\n",
        "#comparison operators - use to compare values\n",
        "# > >= < <= == !=\n",
        "d=3>2 #have to use multiple lines, ah well\n",
        "print('d = 3 is more than 2 = '+str(d) )\n",
        "d=3<2\n",
        "print('d = 3 is more than 2 = '+str(d) )\n",
        "d=3>=2\n",
        "print('d = 3 is more than/equal to 2 = '+str(d) )\n",
        "d=3<=2\n",
        "print('d = 3 is less than/equal to 2 = '+str(d) )\n",
        "d=3==2\n",
        "print('d = 3 is equal to 2 = '+str(d) )\n",
        "d=3!=2\n",
        "print('d = 3 is not equal to 2 = '+str(d) )\n",
        "\n",
        "# forgot to test %, **, //\n",
        "e=7%3\n",
        "print('e = 7/3 remainder = ' + str(e))\n",
        "f=7**3\n",
        "print('f = 7 to the power of 3 = ' + str(f))\n",
        "g=7000000//3\n",
        "print('g = how many times does 3 (whole) go into 7 million = ' + str(g))"
      ],
      "metadata": {
        "id": "U7nPlScdyCOw",
        "colab": {
          "base_uri": "https://localhost:8080/"
        },
        "outputId": "e13d03a2-dd63-42af-dbd4-ff78271ba3f0"
      },
      "execution_count": 42,
      "outputs": [
        {
          "output_type": "stream",
          "name": "stdout",
          "text": [
            "Why didn't I have this in school!\n",
            "14\n",
            "14\n",
            "c = 26\n",
            "d = 3 is more than 2 = True\n",
            "d = 3 is more than 2 = False\n",
            "d = 3 is more than/equal to 2 = True\n",
            "d = 3 is less than/equal to 2 = False\n",
            "d = 3 is equal to 2 = False\n",
            "d = 3 is not equal to 2 = True\n",
            "e = 7/3 remainder = 1\n",
            "f = 7 to the power of 3 = 343\n",
            "g = how many times does 3 (whole) go into 7 million = 2333333\n"
          ]
        }
      ]
    },
    {
      "cell_type": "code",
      "source": [],
      "metadata": {
        "id": "3U7VA6gOz1DU"
      },
      "execution_count": null,
      "outputs": []
    }
  ]
}