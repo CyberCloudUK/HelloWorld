{
  "nbformat": 4,
  "nbformat_minor": 0,
  "metadata": {
    "colab": {
      "provenance": [],
      "authorship_tag": "ABX9TyMUPb418zEA0LEBr8zplEpe",
      "include_colab_link": true
    },
    "kernelspec": {
      "name": "python3",
      "display_name": "Python 3"
    },
    "language_info": {
      "name": "python"
    }
  },
  "cells": [
    {
      "cell_type": "markdown",
      "metadata": {
        "id": "view-in-github",
        "colab_type": "text"
      },
      "source": [
        "<a href=\"https://colab.research.google.com/github/CyberCloudUK/PythonHelloWorld/blob/master/py_week_1.ipynb\" target=\"_parent\"><img src=\"https://colab.research.google.com/assets/colab-badge.svg\" alt=\"Open In Colab\"/></a>"
      ]
    },
    {
      "cell_type": "code",
      "execution_count": null,
      "metadata": {
        "id": "7mS_kf9p4avO"
      },
      "outputs": [],
      "source": []
    },
    {
      "cell_type": "markdown",
      "source": [],
      "metadata": {
        "id": "S5VfMydpyB7s"
      }
    },
    {
      "cell_type": "code",
      "source": [
        "\n",
        "First = input('First: ')\n",
        "Second = input('Second: ')\n",
        "Sum = float(First) + float(Second)\n",
        "print('Sum: ' + str(Sum))"
      ],
      "metadata": {
        "id": "U7nPlScdyCOw",
        "colab": {
          "base_uri": "https://localhost:8080/"
        },
        "outputId": "bf82571d-3f38-4a00-bfe0-85e85ad8ed9b"
      },
      "execution_count": 2,
      "outputs": [
        {
          "output_type": "stream",
          "name": "stdout",
          "text": [
            "First: 10.1\n",
            "Second: 20\n",
            "Sum: 30.1\n"
          ]
        }
      ]
    },
    {
      "cell_type": "code",
      "source": [],
      "metadata": {
        "id": "3U7VA6gOz1DU"
      },
      "execution_count": null,
      "outputs": []
    }
  ]
}