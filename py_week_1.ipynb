{
  "nbformat": 4,
  "nbformat_minor": 0,
  "metadata": {
    "colab": {
      "provenance": [],
      "toc_visible": true,
      "authorship_tag": "ABX9TyNDSdbo99gfEhTPl8qhxWHM",
      "include_colab_link": true
    },
    "kernelspec": {
      "name": "python3",
      "display_name": "Python 3"
    },
    "language_info": {
      "name": "python"
    }
  },
  "cells": [
    {
      "cell_type": "markdown",
      "metadata": {
        "id": "view-in-github",
        "colab_type": "text"
      },
      "source": [
        "<a href=\"https://colab.research.google.com/github/CyberCloudUK/PythonHelloWorld/blob/master/py_week_1.ipynb\" target=\"_parent\"><img src=\"https://colab.research.google.com/assets/colab-badge.svg\" alt=\"Open In Colab\"/></a>"
      ]
    },
    {
      "cell_type": "code",
      "execution_count": null,
      "metadata": {
        "id": "7mS_kf9p4avO"
      },
      "outputs": [],
      "source": []
    },
    {
      "cell_type": "markdown",
      "source": [],
      "metadata": {
        "id": "S5VfMydpyB7s"
      }
    },
    {
      "cell_type": "code",
      "source": [
        "\n",
        "mindset = 'One day at a time'\n",
        "print(mindset.upper())\n",
        "print(mindset.lower())\n",
        "print(mindset.find('at'))\n",
        "print(mindset.find('one'))\n",
        "print(mindset.replace('One', '1'))\n",
        "print('one' in mindset)\n",
        "print('One' in mindset)"
      ],
      "metadata": {
        "id": "U7nPlScdyCOw",
        "colab": {
          "base_uri": "https://localhost:8080/"
        },
        "outputId": "44c9bbab-0da6-442b-bbdd-25d22c8b8845"
      },
      "execution_count": 12,
      "outputs": [
        {
          "output_type": "stream",
          "name": "stdout",
          "text": [
            "ONE DAY AT A TIME\n",
            "one day at a time\n",
            "8\n",
            "-1\n",
            "1 day at a time\n",
            "False\n",
            "True\n"
          ]
        }
      ]
    },
    {
      "cell_type": "code",
      "source": [],
      "metadata": {
        "id": "3U7VA6gOz1DU"
      },
      "execution_count": null,
      "outputs": []
    }
  ]
}